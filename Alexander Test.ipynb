{
 "cells": [
  {
   "cell_type": "code",
   "execution_count": 1,
   "id": "9733728f-b711-4654-9564-6c376f8368af",
   "metadata": {
    "tags": []
   },
   "outputs": [],
   "source": [
    "hello <- \"Hello, this is Alexander's R notebook.\""
   ]
  },
  {
   "cell_type": "code",
   "execution_count": 2,
   "id": "2114e8fd-bf59-402c-a7a7-24f45e6b2d12",
   "metadata": {
    "tags": []
   },
   "outputs": [
    {
     "data": {
      "text/html": [
       "'Hello, this is Alexander\\'s R notebook.'"
      ],
      "text/latex": [
       "'Hello, this is Alexander\\textbackslash{}'s R notebook.'"
      ],
      "text/markdown": [
       "'Hello, this is Alexander\\'s R notebook.'"
      ],
      "text/plain": [
       "[1] \"Hello, this is Alexander's R notebook.\""
      ]
     },
     "metadata": {},
     "output_type": "display_data"
    }
   ],
   "source": [
    "hello"
   ]
  }
 ],
 "metadata": {
  "kernelspec": {
   "display_name": "R",
   "language": "R",
   "name": "ir"
  },
  "language_info": {
   "codemirror_mode": "r",
   "file_extension": ".r",
   "mimetype": "text/x-r-source",
   "name": "R",
   "pygments_lexer": "r",
   "version": "4.2.2"
  }
 },
 "nbformat": 4,
 "nbformat_minor": 5
}
