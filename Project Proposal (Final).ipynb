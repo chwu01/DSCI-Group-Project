{
 "cells": [
  {
   "cell_type": "markdown",
   "id": "af06f7a5-8295-474a-a8a9-30663f6661ad",
   "metadata": {},
   "source": [
    "**Introduction**\n",
    "Housing prices are based on a variety of factors, and fluctuate with the health of the economy. However, there should always be things about a home that intrinsically make it higher value than others. Removing economic fluctuations, what makes a house worth more than another, and how can we predict the value of a house? \n",
    "\n",
    "<ins>Goal:</ins> Predict housing prices based on a combination of attributes.\n",
    "\n",
    "To address this question, we will be using a comprehensive dataset that includes various attributes of residential properties. The dataset will include information on property size, architectural features, the presence of amenities (such as parking or whether the house is near the mainroad), and infrastructures within the house. By analyzing these variables and comparing the non-economic factors, we aim to identify what variables have the greatest influence on price prediction, that can be used to predict house prices."
   ]
  },
  {
   "cell_type": "markdown",
   "id": "c3281b71-f7d0-43e5-9536-a3bd05fec092",
   "metadata": {},
   "source": [
    "**Methods**\n",
    "Our base model will be a multivariate regression with our quantitative variables that are known to increase house value (area, bedrooms, bathroom, stories). It will involve a mixture of different types of plots, correlation analysis and regression model. We will be comparing the effect of other categorical variables (whether or not the house has a basement, heating, air conditioning, etc.) to identify the most relevant predictor variables that significantly affect housing prices. Then, we will use 1 to 2 categorical variables that best increase the accuracy of the model from the last step to predict the house prices. Once the model is complete, we will visualize the results with a scatterplot."
   ]
  },
  {
   "cell_type": "markdown",
   "id": "24c5f5d8-fabd-48e6-89ab-086f11f937fc",
   "metadata": {},
   "source": [
    "**Preliminary Exploratory Data Analysis**"
   ]
  },
  {
   "cell_type": "code",
   "execution_count": null,
   "id": "193049c9-4c3e-4ace-8a2c-f74e5e14d03e",
   "metadata": {
    "tags": []
   },
   "outputs": [],
   "source": [
    "library(tidyverse)\n",
    "library(repr)\n",
    "library(tidymodels)\n",
    "library(readxl)\n",
    "library(RColorBrewer)\n",
    "options(repr.matrix.max.rows = 6)\n",
    "set.seed(2023)"
   ]
  },
  {
   "cell_type": "code",
   "execution_count": null,
   "id": "8b70f051-e952-41cb-b8f8-e243a87ea19c",
   "metadata": {
    "tags": []
   },
   "outputs": [],
   "source": [
    "url <- \"https://raw.githubusercontent.com/chwu01/DSCI-Group-Project/main/data/Housing.csv?token=GHSAT0AAAAAACJLPUGVZAVJVT4ABCKVY53KZJ4B4RQ\"\n",
    "housing <- read_csv(url)\n",
    "\n",
    "housing <- housing |>\n",
    "    mutate(furnishingstatus = as_factor(furnishingstatus),\n",
    "          mainroad = as_factor(mainroad),\n",
    "          guestroom = as_factor(guestroom),\n",
    "          basement = as_factor(basement),\n",
    "          hotwaterheating = as_factor(hotwaterheating),\n",
    "          airconditioning = as_factor(airconditioning),\n",
    "          prefarea = as_factor(prefarea))\n",
    "\n",
    "housing"
   ]
  },
  {
   "cell_type": "code",
   "execution_count": null,
   "id": "fa6e2977-6c73-4f61-903a-0b6c28d8ea72",
   "metadata": {
    "tags": []
   },
   "outputs": [],
   "source": [
    "#Scatterplot for price vs. area\n",
    "housing_plot <- housing|>\n",
    "    ggplot(aes(x = area, y = price))+\n",
    "    geom_point()+\n",
    "    labs(x = \"Area(sqft)\", y = \"House Price\")+\n",
    "    ggtitle(\"House Price vs. Area(sqft)\")\n",
    "housing_plot"
   ]
  },
  {
   "cell_type": "markdown",
   "id": "4c2eebff-df8f-4109-90f4-ff47f5085755",
   "metadata": {},
   "source": [
    "**Initial Observations:** We can see from the plot above that generally, price increases with area, although there is significant variability. There may be other variables at play that are influencing price, beyond just area. For example, house price might go up with the number of bedrooms included, as it would be able to house more people."
   ]
  },
  {
   "cell_type": "code",
   "execution_count": null,
   "id": "51135112-e932-4568-99db-3646f93f11f2",
   "metadata": {
    "tags": []
   },
   "outputs": [],
   "source": [
    "# Checking for NA values\n",
    "\n",
    "housing_check_na <- housing |>\n",
    "    summarize(check_for_na = sum(is.na(housing)))\n",
    "\n",
    "housing_check_na"
   ]
  },
  {
   "cell_type": "markdown",
   "id": "32b8531b-16a0-4c88-a274-b10285694c3e",
   "metadata": {},
   "source": [
    "**How does number of bedrooms affect price?**"
   ]
  },
  {
   "cell_type": "code",
   "execution_count": null,
   "id": "86043dfe-2310-45de-bfbe-8e3d4f75615f",
   "metadata": {
    "tags": []
   },
   "outputs": [],
   "source": [
    "# Checking the spread of number of bedrooms in the dataset after splitting data\n",
    "\n",
    "housing_split_bedrooms <- initial_split(housing, prop = 0.75, strata = bedrooms)\n",
    "housing_train_bedrooms <- training(housing_split_bedrooms)\n",
    "housing_test_bedrooms <- testing(housing_split_bedrooms) \n",
    "\n",
    "housing_bedroom_count <- housing_train_bedrooms |>\n",
    "    group_by(bedrooms) |>\n",
    "    summarize(observations = n())\n",
    "\n",
    "housing_bedroom_count"
   ]
  },
  {
   "cell_type": "code",
   "execution_count": null,
   "id": "972e60ab-786f-4ccc-a23c-b7fa755b0663",
   "metadata": {
    "tags": []
   },
   "outputs": [],
   "source": [
    "# Dividing area into bins to examine the distribution of house square footage\n",
    "\n",
    "housing_area_bins <- housing_train_bedrooms |>\n",
    "    select(price, area, bedrooms)\n",
    "\n",
    "breaks <- c(0, 1000, 2000, 3000, 4000, 5000, 6000, 7000, 8000, 9000, 10000, 11000, 12000, 13000, 14000, 15000, 16000, 17000)\n",
    "tags <- c(\"0-1000\", \"1000-2000\", \"2000-3000\", \"3000-4000\", \"4000-5000\", \"5000-6000\", \"6000-7000\", \"7000-8000\", \"8000-9000\", \"9000-10000\",\n",
    "          \"10000-11000\", \"11000-12000\", \"12000-13000\", \"13000-14000\", \"14000-15000\", \"15000-16000\", \"16000-17000\")\n",
    "\n",
    "group_tags <- cut(housing_area_bins$area, breaks = breaks, include.lowest = TRUE, right = FALSE, labels = tags)\n",
    "\n",
    "# group_tags\n",
    "\n",
    "housing_area_buckets <- housing_train_bedrooms |>\n",
    "    select(price, area) |>\n",
    "    mutate(area_bucket = group_tags) |>\n",
    "    group_by(area_bucket) |>\n",
    "    summarize(number_of_houses = n())\n",
    "\n",
    "housing_area_buckets"
   ]
  },
  {
   "cell_type": "code",
   "execution_count": null,
   "id": "1eed0133-a61d-4b19-87a2-c188c5716541",
   "metadata": {
    "tags": []
   },
   "outputs": [],
   "source": [
    "# Visualizing above in a histogram (using training data only)\n",
    "\n",
    "number_of_houses_by_area <- housing_train_bedrooms |>\n",
    "    ggplot(aes(x = area)) +\n",
    "    geom_histogram(binwidth = 1000, colour = \"black\", fill = \"orange\") +\n",
    "    ggtitle(\"Number of Houses by Area (1000m Bins)\") +\n",
    "    labs(x = \"Area (Square Footage)\", y = \"Number of Houses\")\n",
    "\n",
    "number_of_houses_by_area"
   ]
  },
  {
   "cell_type": "markdown",
   "id": "1b815e8e-771d-4f3b-92f1-57fc1a598c8d",
   "metadata": {},
   "source": [
    "**Initial Observations:** There are significantly more observations of houses less than 8000 square feet. It's likely that our predictive model will be much more accurate within that range. Going beyond 8000 square feet will likely decrease the accuracy because there is so little data to train with."
   ]
  },
  {
   "cell_type": "markdown",
   "id": "5d15df39-f8d8-4572-9926-a35dd106b688",
   "metadata": {},
   "source": [
    "**How does furnishing status affect housing price?**"
   ]
  },
  {
   "cell_type": "code",
   "execution_count": null,
   "id": "1e7990b1-b565-4399-9ac6-02d5c9b0d0db",
   "metadata": {
    "tags": []
   },
   "outputs": [],
   "source": [
    "# Splitting data based on its furnishing status\n",
    "housing_split_furnishingstatus <- initial_split(housing, prop = 0.75, strata = furnishingstatus)\n",
    "housing_train_furnishingstatus <- training(housing_split_furnishingstatus)\n",
    "housing_test_furnishingstatus <- testing(housing_split_furnishingstatus) \n",
    "\n",
    "# Summarize obeservation\n",
    "housing_fs_count <- housing_train_furnishingstatus |>\n",
    "                      group_by(furnishingstatus) |>\n",
    "                      summarize(count = n(),\n",
    "                          mean_area = mean(area, na.rm = TRUE),\n",
    "                          mean_price = mean(price, na.rm = TRUE),\n",
    "                          check_na = sum(is.na(area) | is.na(price)))\n",
    "\n",
    "housing_fs_count"
   ]
  },
  {
   "cell_type": "code",
   "execution_count": null,
   "id": "94485f7e-e312-45d5-b405-c662660896ec",
   "metadata": {
    "tags": []
   },
   "outputs": [],
   "source": [
    "# Visualizing results\n",
    "\n",
    "housing_fs_bar <- housing_fs_count|>\n",
    "    ggplot(aes(x = furnishingstatus, y = mean_price)) +\n",
    "    geom_bar(stat = \"identity\", fill = \"pink\") +\n",
    "    labs(title = \"Impact of Furnishing Status on Housing Price\",\n",
    "        x = \"Furnishing Status\",\n",
    "        y = \"Mean Price\") +\n",
    "    theme_minimal()\n",
    "housing_fs_bar"
   ]
  },
  {
   "cell_type": "code",
   "execution_count": null,
   "id": "6941a1ba-4b73-4d4c-8166-906f462792fd",
   "metadata": {
    "tags": []
   },
   "outputs": [],
   "source": [
    "mean_housing_df <- housing |>\n",
    "    group_by(bedrooms) |>\n",
    "    mutate(mean_price_per_bedroom = mean(price))\n",
    "\n",
    "housing_plot <- mean_housing_df |>\n",
    "    ggplot(aes(x = bedrooms, y = mean_price_per_bedroom)) +\n",
    "        geom_line() +\n",
    "        labs(title = \"Number of Bedrooms'\\n Average Affect on House Price\", x = \"Number of Bedrooms\", y = \"Mean Price \\n of all Homes with x Amount of Bedrooms\")\n",
    "housing_plot"
   ]
  },
  {
   "cell_type": "markdown",
   "id": "563b3750-05c0-47fa-bb21-2d5a9ef002ef",
   "metadata": {},
   "source": [
    "### Pattern\n",
    "In general, it seems that the number of bedrooms generally correlates with a higher priced home. So there is a strong relationship.  However, oddly enough it drops off after 5 bedrooms for an unknown reason.  This may be something we need to look into within our analysis\n",
    "## Figuring out What Plays a Big Role in the Price other than Area"
   ]
  },
  {
   "cell_type": "code",
   "execution_count": null,
   "id": "5d80d88b-50c9-4248-a732-569b301caea1",
   "metadata": {
    "tags": []
   },
   "outputs": [],
   "source": [
    "values <- c(\"yes\", \"no\")\n",
    "combinations <- expand.grid(\n",
    "    Var1 = values,\n",
    "    Var2 = values,\n",
    "    Var3 = values,\n",
    "    Var5 = values,\n",
    "    Var6 = values\n",
    ")\n",
    "\n",
    "mean_price_list <- vector()\n",
    "combo_name_list <- vector()\n",
    "column_names <- c(\"combo_type\", \"price\")\n",
    "avg_price_amenities <- data.frame(matrix(ncol = length(column_names)))\n",
    "\n",
    "for (i in seq_along(housing)) {\n",
    "    \n",
    "    combination_price <- housing |>\n",
    "        filter(mainroad == combinations[i, 1] & guestroom == combinations[i, 2] & basement == combinations[i, 3] & hotwaterheating == combinations[i, 4]) |>\n",
    "        summarize(amount = mean(price, na.rm = TRUE))\n",
    "    \n",
    "    mean_price <- as.double(combination_price$amount)\n",
    "    combo_name <- \"\"\n",
    "    \n",
    "    if (combinations[i, 1] == \"yes\") {\n",
    "    combo_name <- paste0(combo_name, \"M\")\n",
    "    } \n",
    "    if (combinations[i, 2] == \"yes\") {\n",
    "    combo_name <- paste0(combo_name, \"G\")\n",
    "    } \n",
    "    if (combinations[i, 3] == \"yes\") {\n",
    "    combo_name <- paste0(combo_name, \"B\")\n",
    "    } \n",
    "    if (combinations[i, 4] == \"yes\") {\n",
    "    combo_name <- paste0(combo_name, \"H\")\n",
    "    } \n",
    "    if (combo_name == \"\") {\n",
    "    combo_name <- \"None\"\n",
    "    }\n",
    "\n",
    "    mean_price_list = c(mean_price_list, mean_price)\n",
    "    combo_name_list = c(combo_name_list, combo_name)\n",
    "}\n",
    "\n",
    "avg_price_amenities <- data.frame(\n",
    "    price = mean_price_list,\n",
    "    combo_type = combo_name_list)\n",
    "\n",
    "bar_graph <- avg_price_amenities |>\n",
    "    ggplot(aes(x = combo_type, y = price)) +\n",
    "        geom_bar(stat = \"identity\") +\n",
    "        labs(title = \"Fluctuation of the Price Depending on a Unique Combination of Amenities\", y = \"Price of Home\", x = \"Unique Observation Number\\nM = Mainroad, G = Guestroom, B = Basement, H = Hot water heating\")\n",
    "bar_graph"
   ]
  },
  {
   "cell_type": "markdown",
   "id": "81d12e44-9a64-4841-993d-e941415c1092",
   "metadata": {
    "tags": []
   },
   "source": [
    "### Code Explaination\n",
    "We generate all the possible combinations of amenities a home can have"
   ]
  },
  {
   "cell_type": "code",
   "execution_count": null,
   "id": "e7773498-9686-46a6-b034-aea1e2a497ac",
   "metadata": {
    "tags": []
   },
   "outputs": [],
   "source": [
    "slice(combinations, 1:3) # There are 16 total combinations in total.  Sliced to save space"
   ]
  },
  {
   "cell_type": "markdown",
   "id": "f8077110-7222-4540-8c16-7a6ada190091",
   "metadata": {},
   "source": [
    "After which we get the mean price of all houses with a certain unique amenities combination.  These are then put into lists which will make up the columns of the data set.\n",
    "### Patterns\n",
    "We can see that there is obviously a correlation between the amount of amenities a house has and the ultimate price of it.  Interestingly enough, however, we can see that this isn't always the case, with the mean price of homes with all amenities being cheaper than those with access to the main road, have a basement, and hot water heating.  This is likely to do with other factors such as the total area of the home, as well as its furnishing status among other things.  With the data we have now, there is a possibility that the amount of amenities and the size of the home and/or its furnishing status is related, however, we will need to explore this more deeply later on."
   ]
  },
  {
   "cell_type": "markdown",
   "id": "46388330-9903-47b2-8764-3d6131af8811",
   "metadata": {},
   "source": [
    "**Expected outcomes**\n",
    "We anticipate that our analysis will confirm that certain quantitative variables, such as property size and number of bedrooms, will have a positive relationship with the value of the house.  Additionally, we expect that the presence of certain categorical values such as parking and accessibility to mainroad will generally lead to an increase in the housing price. However, subjective factors like the buyer's perception of the value of these amenities could affect how much of an increase there is. These findings are significant because they offer future house owners a more precise understanding of the basic factors influencing house prices.\n"
   ]
  },
  {
   "cell_type": "markdown",
   "id": "d734dce2-7638-4f16-ae69-f29d806b52a5",
   "metadata": {},
   "source": [
    "**Future questions**\n",
    "- Is it cheaper to buy a house with amenities included or buy one without and install yourself?\n",
    "- What other variables can impact a house(e.g. age of the house, color)?\n"
   ]
  }
 ],
 "metadata": {
  "kernelspec": {
   "display_name": "R",
   "language": "R",
   "name": "ir"
  },
  "language_info": {
   "codemirror_mode": "r",
   "file_extension": ".r",
   "mimetype": "text/x-r-source",
   "name": "R",
   "pygments_lexer": "r",
   "version": "4.2.2"
  }
 },
 "nbformat": 4,
 "nbformat_minor": 5
}
