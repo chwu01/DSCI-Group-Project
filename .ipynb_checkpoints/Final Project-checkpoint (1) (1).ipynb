{
 "cells": [
  {
   "cell_type": "code",
   "execution_count": 2,
   "id": "0c594c49-50c1-417e-b57e-910d30b2d651",
   "metadata": {
    "tags": []
   },
   "outputs": [
    {
     "name": "stderr",
     "output_type": "stream",
     "text": [
      "── \u001b[1mAttaching packages\u001b[22m ─────────────────────────────────────── tidyverse 1.3.2 ──\n",
      "\u001b[32m✔\u001b[39m \u001b[34mggplot2\u001b[39m 3.4.2     \u001b[32m✔\u001b[39m \u001b[34mpurrr  \u001b[39m 1.0.1\n",
      "\u001b[32m✔\u001b[39m \u001b[34mtibble \u001b[39m 3.2.1     \u001b[32m✔\u001b[39m \u001b[34mdplyr  \u001b[39m 1.1.1\n",
      "\u001b[32m✔\u001b[39m \u001b[34mtidyr  \u001b[39m 1.3.0     \u001b[32m✔\u001b[39m \u001b[34mstringr\u001b[39m 1.5.0\n",
      "\u001b[32m✔\u001b[39m \u001b[34mreadr  \u001b[39m 2.1.3     \u001b[32m✔\u001b[39m \u001b[34mforcats\u001b[39m 0.5.2\n",
      "── \u001b[1mConflicts\u001b[22m ────────────────────────────────────────── tidyverse_conflicts() ──\n",
      "\u001b[31m✖\u001b[39m \u001b[34mdplyr\u001b[39m::\u001b[32mfilter()\u001b[39m masks \u001b[34mstats\u001b[39m::filter()\n",
      "\u001b[31m✖\u001b[39m \u001b[34mdplyr\u001b[39m::\u001b[32mlag()\u001b[39m    masks \u001b[34mstats\u001b[39m::lag()\n",
      "── \u001b[1mAttaching packages\u001b[22m ────────────────────────────────────── tidymodels 1.0.0 ──\n",
      "\n",
      "\u001b[32m✔\u001b[39m \u001b[34mbroom       \u001b[39m 1.0.2     \u001b[32m✔\u001b[39m \u001b[34mrsample     \u001b[39m 1.1.1\n",
      "\u001b[32m✔\u001b[39m \u001b[34mdials       \u001b[39m 1.1.0     \u001b[32m✔\u001b[39m \u001b[34mtune        \u001b[39m 1.0.1\n",
      "\u001b[32m✔\u001b[39m \u001b[34minfer       \u001b[39m 1.0.4     \u001b[32m✔\u001b[39m \u001b[34mworkflows   \u001b[39m 1.1.2\n",
      "\u001b[32m✔\u001b[39m \u001b[34mmodeldata   \u001b[39m 1.0.1     \u001b[32m✔\u001b[39m \u001b[34mworkflowsets\u001b[39m 1.0.0\n",
      "\u001b[32m✔\u001b[39m \u001b[34mparsnip     \u001b[39m 1.0.3     \u001b[32m✔\u001b[39m \u001b[34myardstick   \u001b[39m 1.1.0\n",
      "\u001b[32m✔\u001b[39m \u001b[34mrecipes     \u001b[39m 1.0.4     \n",
      "\n",
      "── \u001b[1mConflicts\u001b[22m ───────────────────────────────────────── tidymodels_conflicts() ──\n",
      "\u001b[31m✖\u001b[39m \u001b[34mscales\u001b[39m::\u001b[32mdiscard()\u001b[39m masks \u001b[34mpurrr\u001b[39m::discard()\n",
      "\u001b[31m✖\u001b[39m \u001b[34mdplyr\u001b[39m::\u001b[32mfilter()\u001b[39m   masks \u001b[34mstats\u001b[39m::filter()\n",
      "\u001b[31m✖\u001b[39m \u001b[34mrecipes\u001b[39m::\u001b[32mfixed()\u001b[39m  masks \u001b[34mstringr\u001b[39m::fixed()\n",
      "\u001b[31m✖\u001b[39m \u001b[34mdplyr\u001b[39m::\u001b[32mlag()\u001b[39m      masks \u001b[34mstats\u001b[39m::lag()\n",
      "\u001b[31m✖\u001b[39m \u001b[34myardstick\u001b[39m::\u001b[32mspec()\u001b[39m masks \u001b[34mreadr\u001b[39m::spec()\n",
      "\u001b[31m✖\u001b[39m \u001b[34mrecipes\u001b[39m::\u001b[32mstep()\u001b[39m   masks \u001b[34mstats\u001b[39m::step()\n",
      "\u001b[34m•\u001b[39m Dig deeper into tidy modeling with R at \u001b[32mhttps://www.tmwr.org\u001b[39m\n",
      "\n",
      "Updating HTML index of packages in '.Library'\n",
      "\n",
      "Making 'packages.html' ...\n",
      " done\n",
      "\n"
     ]
    },
    {
     "ename": "ERROR",
     "evalue": "Error in library(GGally): there is no package called ‘GGally’\n",
     "output_type": "error",
     "traceback": [
      "Error in library(GGally): there is no package called ‘GGally’\nTraceback:\n",
      "1. library(GGally)"
     ]
    }
   ],
   "source": [
    "library(tidyverse)\n",
    "library(tidymodels)\n",
    "library(repr)\n",
    "library(ggplot2)\n",
    "options(repr.matrix.max.rows = 6)\n",
    "install.packages('kknn')\n",
    "library(\"kknn\")\n",
    "library(GGally)"
   ]
  },
  {
   "cell_type": "markdown",
   "id": "62b78296-3c27-4652-8385-abcdf45255b6",
   "metadata": {
    "tags": []
   },
   "source": [
    "# Introduction\n",
    "\n",
    "Vancouver is reported to be the least affordable housing market in North America (Grigoryeva & Ley, 2019). Fluctuated with the health of the economy, housing prices are based on a variety of factors, such as size of the property and the installation status of amenities. However, there should always be things about a home that intrinsically make it higher value than others. \n",
    "**Removing economic fluctuations, what makes a house worth more than another, and how can we predict the value of a house?**\n",
    "\n",
    "*Goal*: Predict housing prices based on its size, with consideration of additional attributes (bedrooms, bathroom, stories, and parking).\n",
    "\n",
    "To address this question, we will be using the Housing Price Prediction dataset from Kaggle. This comprehensive data set includes 13 key attributes of residential properties, covering property size, architectural features, the presence of amenities, and infrastructures within the house. Our focus will be on the quantitative variables, such as areas, bedrooms, bathroom, stories, and parking. Analyzing these non-economic factors provides deeper insight into their influence on price predictions, potentially helping future homebuyers in budget planning.\n"
   ]
  },
  {
   "cell_type": "markdown",
   "id": "fb5916c7-6a55-4b3f-9f41-0f141459016d",
   "metadata": {},
   "source": [
    "# Methodology\n",
    "\n",
    "We will assess both KNN and linear regression models to determine the most accurate one. Both of the regression models predict the price of the homes given their predictor variables, the main one being the area of the home, in order to find the model which will yield the most accurate result given the data provided.  As is standard in the creation of a model, the dataset is initially split into a training and testing data frame.  The ideal number of nearest neighbours will need to be tuned for the KNN algorithm, and only afterwards will we fit the model onto our training set and predict its accuracy while comparing the predicted values of the predicted variables, and the original variables of the test set. \n",
    "\n",
    "This is an outline of the steps involved in reaching our final result: \n",
    "1. KNN regression model\n",
    "2. Linear regression model\n",
    "3. Compare both models and examine their accuracy\n",
    "4. Examine and visualize the average effect of other quantitative variables on housing price\n",
    "4. Final visualization"
   ]
  },
  {
   "cell_type": "markdown",
   "id": "ad9b4ae6-9bd0-4e05-8b5c-469be81f875a",
   "metadata": {},
   "source": [
    "**Data Summary**"
   ]
  },
  {
   "cell_type": "code",
   "execution_count": null,
   "id": "33670de6-a995-43f8-a8e6-5a033cfe774b",
   "metadata": {
    "tags": []
   },
   "outputs": [],
   "source": [
    "url <- \"https://raw.githubusercontent.com/Xela-debug/datasets/main/Housing.csv\"\n",
    "housing_df <- read_csv(url)\n",
    "\n",
    "set.seed(2023)\n",
    "housing_split <- initial_split(housing_df, prop = 0.75, strata = price)\n",
    "housing_test <- testing(housing_split)\n",
    "housing_train <- training(housing_split)\n",
    "\n",
    "# Taking a glance into the training data set\n",
    "head(housing_train)\n",
    "tail(housing_train)"
   ]
  },
  {
   "cell_type": "code",
   "execution_count": null,
   "id": "38a19a94-d59c-45cf-a628-119292380526",
   "metadata": {
    "tags": []
   },
   "outputs": [],
   "source": [
    "# Checking for NA values\n",
    "housing_check_na <- housing_train |>\n",
    "    summarize(check_for_na = sum(is.na(housing_train)))\n",
    "\n",
    "housing_check_na"
   ]
  },
  {
   "cell_type": "markdown",
   "id": "61c5a6a6-9f9a-40d1-aa2f-0d91f5d06f67",
   "metadata": {},
   "source": [
    "**Initial Visualization**"
   ]
  },
  {
   "cell_type": "code",
   "execution_count": null,
   "id": "4092f657-271e-4671-a811-3286109042e3",
   "metadata": {
    "tags": []
   },
   "outputs": [],
   "source": [
    "# Scatterplot for price vs. area\n",
    "housing_plot <- housing_train |>\n",
    "    ggplot(aes(x = area, y = price)) +\n",
    "    geom_point() +\n",
    "    labs(x = \"Area(sqft)\", y = \"House Price\")+\n",
    "    ggtitle(\"House Price vs. Area(sqft)\")\n",
    "\n",
    "housing_plot"
   ]
  },
  {
   "cell_type": "markdown",
   "id": "312d8af4-5b34-407d-956a-f606d07aa735",
   "metadata": {},
   "source": [
    "**Initial Expectations:**\n",
    "After initial exploratory data analysis, we noticed that the data was linear and expected a linear regression to be a good predictor if trained on the correct variables. Additionally, with such a direct relationship between price and variables such as property size, we thought a linear regression and its equation would be the best fit to accurately predict unknown values. This equation would be useful in understanding unknown house prices and would give good insight as to the impact of certain variables like property size. Our expectation will be examined in further data anylsis."
   ]
  },
  {
   "cell_type": "markdown",
   "id": "42ba641b-0354-47ca-ae56-dee973d42e7a",
   "metadata": {},
   "source": [
    "### 1. KNN Regression Model"
   ]
  },
  {
   "cell_type": "code",
   "execution_count": 7,
   "id": "17129d7d-9877-4546-81d5-ed080f7fd954",
   "metadata": {
    "tags": []
   },
   "outputs": [
    {
     "name": "stdout",
     "output_type": "stream",
     "text": [
      "[1] \"insert KNN model\"\n"
     ]
    }
   ],
   "source": [
    "print(\"insert KNN model\")"
   ]
  },
  {
   "cell_type": "markdown",
   "id": "6a497b8c-e37a-4a99-88cd-081defed3afe",
   "metadata": {},
   "source": [
    "### 2. Linear Regression Model"
   ]
  },
  {
   "cell_type": "code",
   "execution_count": 8,
   "id": "b2ccb8bd-2d50-46c3-80b6-cf63a696d42d",
   "metadata": {
    "tags": []
   },
   "outputs": [
    {
     "name": "stdout",
     "output_type": "stream",
     "text": [
      "[1] \"insert Linear  reg model\"\n"
     ]
    }
   ],
   "source": [
    "print(\"insert Linear  reg model\")"
   ]
  },
  {
   "cell_type": "markdown",
   "id": "47be949a-2560-4a46-8957-7db1afde5e82",
   "metadata": {},
   "source": [
    "### 3. Comparing KNN and Linear Regression Model"
   ]
  },
  {
   "cell_type": "code",
   "execution_count": null,
   "id": "ad9b9b58-18a3-47c9-b101-f9c38243cd97",
   "metadata": {},
   "outputs": [],
   "source": [
    "#Accuracy for knn regression model\n",
    "knn_summary <- knn_best_fit |>\n",
    "    predict(housing_test) |>\n",
    "    bind_cols(housing_test) |>\n",
    "    metrics(truth = price, estimate = .pred)\n",
    "\n",
    "#Accuracy for linear regression model\n",
    "lm_results <- housing_fit |>\n",
    "    predict(housing_test) |>\n",
    "    bind_cols(housing_test) |>\n",
    "    metrics(truth = area, estimate = .pred)\n",
    "\n",
    "comparison_rmspe <- cbind(knn_summary, lm_results)\n",
    "comparison_rmspe"
   ]
  },
  {
   "cell_type": "markdown",
   "id": "27b1cb70-1d03-4172-8fb5-fa6bc5313af7",
   "metadata": {},
   "source": [
    "### 4. Visualizations of Other Quantitative Variables vs Housing Price"
   ]
  },
  {
   "cell_type": "code",
   "execution_count": 3,
   "id": "3f1ced35-59ba-4c14-a39d-e05b09589ade",
   "metadata": {
    "tags": []
   },
   "outputs": [
    {
     "ename": "ERROR",
     "evalue": "Error in group_by(housing_df, bedrooms): object 'housing_df' not found\n",
     "output_type": "error",
     "traceback": [
      "Error in group_by(housing_df, bedrooms): object 'housing_df' not found\nTraceback:\n",
      "1. mutate(group_by(housing_df, bedrooms), mean_price_per_bedroom = mean(price))",
      "2. group_by(housing_df, bedrooms)"
     ]
    }
   ],
   "source": [
    "# Examining the average effect of other quantitative datas on house price, including numbers of bedrooms, bathrooms, stories, parking spots.\n",
    "\n",
    "mean_housing_df <- housing_df |>\n",
    "    group_by(bedrooms) |>\n",
    "    mutate(mean_price_per_bedroom = mean(price))\n",
    "bedrooms_plot <- mean_housing_df |>\n",
    "    ggplot(aes(x = bedrooms, y = mean_price_per_bedroom)) +\n",
    "        geom_line() +\n",
    "        labs(title = \"Number of Bedrooms'\\n Average Affect on House Price\", x = \"Number of Bedrooms\", y = \"Mean Price \\n of all Homes with x Amount of Bedrooms\")\n",
    "\n",
    "mean_housing_df <- housing_df |>\n",
    "    group_by(bathrooms) |>\n",
    "    mutate(mean_price_per_bathroom = mean(price))\n",
    "bathrooms_plot <- mean_housing_df |>\n",
    "    ggplot(aes(x = bathrooms, y = mean_price_per_bathroom)) +\n",
    "        geom_line() +\n",
    "        labs(title = \"Number of Bathrooms'\\n Average Affect on House Price\", x = \"Number of Bathrooms\", y = \"Mean Price \\n of all Homes with x Amount of Bathroos\")\n",
    "\n",
    "mean_housing_df <- housing_df |>\n",
    "    group_by(stories) |>\n",
    "    mutate(mean_price_per_stories = mean(price))\n",
    "stories_plot <- mean_housing_df |>\n",
    "    ggplot(aes(x = stories, y = mean_price_per_stories)) +\n",
    "        geom_line() +\n",
    "        labs(title = \"Number of Stories'\\n Average Affect on House Price\", x = \"Number of Stories\", y = \"Mean Price \\n of all Homes with x Amount of Stories\")\n",
    "\n",
    "mean_housing_df <- housing_df |>\n",
    "    group_by(parking) |>\n",
    "    mutate(mean_price_per_parking = mean(price))\n",
    "parking_plot <- mean_housing_df |>\n",
    "    ggplot(aes(x = parking, y = mean_price_per_parking)) +\n",
    "        geom_line() +\n",
    "        labs(title = \"Number of Parking Spots'\\n Average Affect on House Price\", x = \"Number of Parking Spots\", y = \"Mean Price \\n of all Homes with x Amount of Parking Spots\")\n",
    "\n",
    "#combining the graphs for clearer visualization\n",
    "install.packages(\"gridExtra\")\n",
    "library(gridExtra)\n",
    "grid.arrange(bedrooms_plot, bathrooms_plot, stories_plot, parking_plot, nrow = 2)"
   ]
  },
  {
   "cell_type": "markdown",
   "id": "e27f2b7f-82fc-4ddf-ae5c-daa665d3ff01",
   "metadata": {},
   "source": [
    "**Observations:** As expected, all graphs indicate that housing price increases as the quantitative variable (numbers of bedrooms, bathrooms, stories, parking spots)increase. However, each trends contains interesting variations that are worth looking into:\n",
    "\n",
    "- **Bedrooms:** peak price is observed at 5 bedrooms, followed by a decrease thereafter\n",
    "- **Bathrooms:** price increases significantly with more than 3 bathrooms \n",
    "- **Stories:** increase of prices rises steadily\n",
    "- **Parking:** maximum price observed at 2 parking spots\n",
    "\n",
    "These observations mirror insights from a study on housing price determinants in the USA. The research indicates that the square footage of a property exerts the most significant impact on housing price, closely followed by its location, and its number of bathrooms and bedrooms (Jafari & Akhavian, 2019). Remarkably, our findings align closely with these established research conclusions. Moreover, the study indicates that neighborhood characteristics, such as distance to open spaces and shopping malls, exert a comparatively weaker influence on housing prices. This conclusion further justified our effective choices of variables."
   ]
  },
  {
   "cell_type": "markdown",
   "id": "96462b6a-a97c-410c-8ff1-f30c63f3401d",
   "metadata": {},
   "source": [
    "### 5. Final Visualization"
   ]
  },
  {
   "cell_type": "code",
   "execution_count": 9,
   "id": "eef80d2f-01f6-43b3-923c-618dbac63b96",
   "metadata": {
    "tags": []
   },
   "outputs": [
    {
     "name": "stdout",
     "output_type": "stream",
     "text": [
      "[1] \"insert final scatter plot (KNN) \"\n"
     ]
    }
   ],
   "source": [
    "print('insert final scatter plot (KNN) ')"
   ]
  },
  {
   "cell_type": "markdown",
   "id": "de572e3d-3ad3-42ab-b49d-c6151225d32a",
   "metadata": {},
   "source": [
    "# Discussion\n",
    "\n",
    "### Regression Outcome \n",
    "**this is just an outline for guiding our answers**\n",
    "- summarize what you found\n",
    "- discuss whether this is what you expected to find?\n",
    "\n",
    "### Impact and Limitations \n",
    "\n",
    "With this model, we can more accurately predict unknown housing prices and find out if listed houses are either undervalued or overvalued. This can be helpful to both sellers and buyers.\n",
    "\n",
    "*For sellers*, this model can act as a benchmark for what price to list a house at. Even in the presence of a realtor, the model can act as a second opinion and give sellers additional peace of mind if both the realtor and model agree on a fair price. \n",
    "\n",
    "*For buyers*, this model can help screen for good deals. If one is looking for a house with three bedrooms and the listed price is lower than what the model outputs, it may be the best option on the market. It could also act as an indicator for buyers to do their due diligence. There’s a chance that the house is listed below its supposed true value because there is something wrong with the house, i.e. poor foundation. The model acts as a professional in pricing whilst the buyer shops for houses, ultimately supporting them throughout the entire process.\n",
    "\n",
    "The limitations of the KNN model however, include an inability to see how much one factor affects the housing price. Had the linear regression model been a better predictor, we could have gained additional insight into what factors heavily influence the price, and used those insights to power buyers/sellers decisions. For example, if the number of bedrooms significantly increased the listing price, it could be worth it for a seller to repurpose an empty room into a bedroom. \n",
    "\n",
    "### Future Questions\n",
    "- Is it cheaper to buy a house with amenities included or buy one without and install yourself?\n",
    "- What other variables can impact a house(e.g. age of the house, color)?\n",
    "- While the study suggests a weaker impact of neighborhood characteristics, could specific neighborhood features or amenities in Vancouver exhibit a stronger correlation with housing prices compared to broader area analysis?\n",
    "\n",
    "\n"
   ]
  },
  {
   "cell_type": "markdown",
   "id": "bd3415c8-e029-45ae-bddb-1a5e5712989e",
   "metadata": {},
   "source": [
    "# References\n",
    "\n",
    "- Housing data set from: https://www.kaggle.com/datasets/harishkumardatalab/housing-price-prediction/data\n",
    "\n",
    "- Grigoryeva, Idaliya, and David Ley. 2019. “The Price Ripple Effect in the Vancouver Housing Market.” Urban Geography 40 (8): 1168–90. https://doi.org/10.1080/02723638.2019.1567202.\n",
    "\n",
    "- Jafari, Amirhosein , and Reza Akhavian . 2019. \n",
    "“Driving Forces for the US Residential Housing Price: A Predictive Analysis.” June 18, 2019. https://www.emerald.com/insight/content/doi/10.1108/BEPAM-07-2018-0100/full/html."
   ]
  }
 ],
 "metadata": {
  "kernelspec": {
   "display_name": "R",
   "language": "R",
   "name": "ir"
  },
  "language_info": {
   "codemirror_mode": "r",
   "file_extension": ".r",
   "mimetype": "text/x-r-source",
   "name": "R",
   "pygments_lexer": "r",
   "version": "4.2.2"
  }
 },
 "nbformat": 4,
 "nbformat_minor": 5
}
