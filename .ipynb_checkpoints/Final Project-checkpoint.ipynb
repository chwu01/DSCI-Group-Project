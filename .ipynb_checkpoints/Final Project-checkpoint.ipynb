{
 "cells": [
  {
   "cell_type": "code",
   "execution_count": null,
   "id": "0c594c49-50c1-417e-b57e-910d30b2d651",
   "metadata": {},
   "outputs": [],
   "source": [
    "library(tidyverse)\n",
    "library(tidymodels)\n",
    "library(repr)\n",
    "library(ggplot2)\n",
    "options(repr.matrix.max.rows = 6)\n",
    "install.packages('kknn')\n",
    "library(\"kknn\")\n",
    "library(GGally)"
   ]
  },
  {
   "cell_type": "markdown",
   "id": "62b78296-3c27-4652-8385-abcdf45255b6",
   "metadata": {
    "tags": []
   },
   "source": [
    "**Introduction**\n",
    "\n",
    "Vancouver is reported to be the least affordable housing market in North America (Grigoryeva & Ley, 2019). Fluctuated with the health of the economy, housing prices are based on a variety of factors, such as size of the property and the installation status of amenities. However, there should always be things about a home that intrinsically make it higher value than others. **Removing economic fluctuations, what makes a house worth more than another, and how can we predict the value of a house?**\n",
    "\n",
    "*Goal*: Predict housing prices based on its size, with consideration of additional attributes (bedrooms, bathroom, stories, and parking).\n",
    "\n",
    "To address this question, we will be using the Housing Price Prediction dataset from Kaggle. This comprehensive data set includes 13 key attributes of residential properties, covering property size, architectural features, the presence of amenities, and infrastructures within the house. Our focus will be on the quantitative variables, such as areas, bedrooms, bathroom, stories, and parking. Analyzing these non-economic factors provides deeper insight into their influence on price predictions, potentially helping future homebuyers in budget planning.\n"
   ]
  },
  {
   "cell_type": "markdown",
   "id": "fb5916c7-6a55-4b3f-9f41-0f141459016d",
   "metadata": {},
   "source": [
    "**Methodology**\n",
    "\n",
    "We will assess both KNN and linear regression models to determine the most accurate one. Both of the regression models predict the price of the homes given their predictor variables, the main one being the area of the home, in order to find the model which will yield the most accurate result given the data provided.  As is standard in the creation of a model, the dataset is initially split into a training and testing data frame.  The ideal number of nearest neighbours will need to be tuned for the KNN algorithm, and only afterwards will we fit the model onto our training set and predict its accuracy while comparing the predicted values of the predicted variables, and the original variables of the test set. \n"
   ]
  },
  {
   "cell_type": "code",
   "execution_count": null,
   "id": "33670de6-a995-43f8-a8e6-5a033cfe774b",
   "metadata": {},
   "outputs": [],
   "source": [
    "url <- \"https://raw.githubusercontent.com/Xela-debug/datasets/main/Housing.csv\"\n",
    "housing_df <- read_csv(url)\n",
    "\n",
    "set.seed(2023)\n",
    "housing_split <- initial_split(housing_df, prop = 0.75, strata = price)\n",
    "housing_test <- testing(housing_split)\n",
    "housing_train <- training(housing_split)\n",
    "\n",
    "# Taking a glance into the training data set\n",
    "head(housing_train)\n",
    "tail(housing_train)"
   ]
  },
  {
   "cell_type": "code",
   "execution_count": null,
   "id": "38a19a94-d59c-45cf-a628-119292380526",
   "metadata": {},
   "outputs": [],
   "source": [
    "# Checking for NA values\n",
    "housing_check_na <- housing_train |>\n",
    "    summarize(check_for_na = sum(is.na(housing_train)))\n",
    "\n",
    "housing_check_na"
   ]
  },
  {
   "cell_type": "code",
   "execution_count": null,
   "id": "4092f657-271e-4671-a811-3286109042e3",
   "metadata": {},
   "outputs": [],
   "source": [
    "# Scatterplot for price vs. area\n",
    "housing_plot <- housing_train |>\n",
    "    ggplot(aes(x = area, y = price)) +\n",
    "    geom_point() +\n",
    "    labs(x = \"Area(sqft)\", y = \"House Price\")+\n",
    "    ggtitle(\"House Price vs. Area(sqft)\")\n",
    "\n",
    "housing_plot"
   ]
  },
  {
   "cell_type": "code",
   "execution_count": null,
   "id": "d0b73a85-d678-4b10-a4c3-8248be6763f2",
   "metadata": {},
   "outputs": [],
   "source": [
    "# Examining the average affect of other quantitative datas on house price, including numbers of bedrooms, bathrooms, stories, parking spots.\n",
    "\n",
    "mean_housing_df <- housing_df |>\n",
    "    group_by(bedrooms) |>\n",
    "    mutate(mean_price_per_bedroom = mean(price))\n",
    "bedrooms_plot <- mean_housing_df |>\n",
    "    ggplot(aes(x = bedrooms, y = mean_price_per_bedroom)) +\n",
    "        geom_line() +\n",
    "        labs(title = \"Number of Bedrooms'\\n Average Affect on House Price\", x = \"Number of Bedrooms\", y = \"Mean Price \\n of all Homes with x Amount of Bedrooms\")\n",
    "\n",
    "mean_housing_df <- housing_df |>\n",
    "    group_by(bathrooms) |>\n",
    "    mutate(mean_price_per_bathroom = mean(price))\n",
    "bathrooms_plot <- mean_housing_df |>\n",
    "    ggplot(aes(x = bathrooms, y = mean_price_per_bathroom)) +\n",
    "        geom_line() +\n",
    "        labs(title = \"Number of Bathrooms'\\n Average Affect on House Price\", x = \"Number of Bathrooms\", y = \"Mean Price \\n of all Homes with x Amount of Bathroos\")\n",
    "\n",
    "mean_housing_df <- housing_df |>\n",
    "    group_by(stories) |>\n",
    "    mutate(mean_price_per_stories = mean(price))\n",
    "stories_plot <- mean_housing_df |>\n",
    "    ggplot(aes(x = stories, y = mean_price_per_stories)) +\n",
    "        geom_line() +\n",
    "        labs(title = \"Number of Stories'\\n Average Affect on House Price\", x = \"Number of Stories\", y = \"Mean Price \\n of all Homes with x Amount of Stories\")\n",
    "\n",
    "mean_housing_df <- housing_df |>\n",
    "    group_by(parking) |>\n",
    "    mutate(mean_price_per_parking = mean(price))\n",
    "parking_plot <- mean_housing_df |>\n",
    "    ggplot(aes(x = parking, y = mean_price_per_parking)) +\n",
    "        geom_line() +\n",
    "        labs(title = \"Number of Parking Spots'\\n Average Affect on House Price\", x = \"Number of Parking Spots\", y = \"Mean Price \\n of all Homes with x Amount of Parking Spots\")\n",
    "\n",
    "#combining the graphs for clearer visualization\n",
    "install.packages(\"gridExtra\")\n",
    "library(gridExtra)\n",
    "grid.arrange(bedrooms_plot, bathrooms_plot, stories_plot, parking_plot, nrow = 2)"
   ]
  },
  {
   "cell_type": "markdown",
   "id": "238beaa7-64a9-434b-b722-0dbb253079a5",
   "metadata": {},
   "source": [
    "**Observations:** As expected, all graphs indicate that housing price increases as the quantitative variable (numbers of bedrooms, bathrooms, stories, parking spots)increase. However, each trends contains interesting variations that are worth looking into:\n",
    "\n",
    "- **Bedrooms:** peak price is observed at 5 bedrooms, followed by a decrease thereafter\n",
    "- **Bathrooms:** price increases significantly with more than 3 bathrooms \n",
    "- **Stories:** increase of prices rises steadily\n",
    "- **Parking:** maximum price observed at 2 parking spots\n",
    "\n",
    "These observations mirror insights from a study on housing price determinants in the USA. The research indicates that the square footage of a property exerts the most significant impact on housing price, closely followed by its location, and its number of bathrooms and bedrooms (Jafari & Akhavian, 2019). Remarkably, our findings align closely with these established research conclusions. Moreover, the study indicates that neighborhood characteristics, such as distance to open spaces and shopping malls, exert a comparatively weaker influence on housing prices. This conclusion further justified our effective choices of variables.\n"
   ]
  },
  {
   "cell_type": "code",
   "execution_count": null,
   "id": "22e4c2d0-736a-4220-a4dd-54f35a98dcc8",
   "metadata": {},
   "outputs": [],
   "source": [
    "s"
   ]
  }
 ],
 "metadata": {
  "kernelspec": {
   "display_name": "R",
   "language": "R",
   "name": "ir"
  },
  "language_info": {
   "codemirror_mode": "r",
   "file_extension": ".r",
   "mimetype": "text/x-r-source",
   "name": "R",
   "pygments_lexer": "r",
   "version": "4.2.2"
  }
 },
 "nbformat": 4,
 "nbformat_minor": 5
}
