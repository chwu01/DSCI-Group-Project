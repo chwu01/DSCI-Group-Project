{
 "cells": [
  {
   "cell_type": "code",
   "execution_count": null,
   "id": "0c594c49-50c1-417e-b57e-910d30b2d651",
   "metadata": {},
   "outputs": [],
   "source": [
    "library(tidyverse)\n",
    "library(tidymodels)\n",
    "library(repr)\n",
    "library(ggplot2)\n",
    "options(repr.matrix.max.rows = 6)\n",
    "install.packages('kknn')\n",
    "library(\"kknn\")\n",
    "library(GGally)"
   ]
  },
  {
   "cell_type": "markdown",
   "id": "62b78296-3c27-4652-8385-abcdf45255b6",
   "metadata": {
    "tags": []
   },
   "source": [
    "**Introduction**\n",
    "\n",
    "Vancouver is reported to be the least affordable housing market in North America (Grigoryeva & Ley, 2019). Fluctuated with the health of the economy, housing prices are based on a variety of factors, such as size of the property and the installation status of amenities. However, there should always be things about a home that intrinsically make it higher value than others. **Removing economic fluctuations, what makes a house worth more than another, and how can we predict the value of a house?**\n",
    "\n",
    "*Goal*: Predict housing prices based on its size, with consideration of additional attributes (bedrooms, bathroom, stories, and parking).\n",
    "\n",
    "To address this question, we will be using the Housing Price Prediction dataset from Kaggle. This comprehensive data set includes 13 key attributes of residential properties, covering property size, architectural features, the presence of amenities, and infrastructures within the house. Our focus will be on the quantitative variables, such as areas, bedrooms, bathroom, stories, and parking. Analyzing these non-economic factors provides deeper insight into their influence on price predictions, potentially helping future homebuyers in budget planning.\n"
   ]
  },
  {
   "cell_type": "markdown",
   "id": "fb5916c7-6a55-4b3f-9f41-0f141459016d",
   "metadata": {},
   "source": [
    "**Methodology**\n",
    "\n",
    "We will assess both KNN and linear regression models to determine the most accurate one. Both of the regression models predict the price of the homes given their predictor variables, the main one being the area of the home, in order to find the model which will yield the most accurate result given the data provided.  As is standard in the creation of a model, the dataset is initially split into a training and testing data frame.  The ideal number of nearest neighbours will need to be tuned for the KNN algorithm, and only afterwards will we fit the model onto our training set and predict its accuracy while comparing the predicted values of the predicted variables, and the original variables of the test set. \n"
   ]
  },
  {
   "cell_type": "code",
   "execution_count": null,
   "id": "33670de6-a995-43f8-a8e6-5a033cfe774b",
   "metadata": {},
   "outputs": [],
   "source": [
    "url <- \"https://raw.githubusercontent.com/Xela-debug/datasets/main/Housing.csv\"\n",
    "housing_df <- read_csv(url)\n",
    "\n",
    "set.seed(2023)\n",
    "housing_split <- initial_split(housing_df, prop = 0.75, strata = price)\n",
    "housing_test <- testing(housing_split)\n",
    "housing_train <- training(housing_split)\n",
    "\n",
    "# Taking a glance into the training data set\n",
    "head(housing_train)\n",
    "tail(housing_train)"
   ]
  },
  {
   "cell_type": "code",
   "execution_count": null,
   "id": "38a19a94-d59c-45cf-a628-119292380526",
   "metadata": {},
   "outputs": [],
   "source": [
    "# Checking for NA values\n",
    "housing_check_na <- housing_train |>\n",
    "    summarize(check_for_na = sum(is.na(housing_train)))\n",
    "\n",
    "housing_check_na"
   ]
  },
  {
   "cell_type": "code",
   "execution_count": null,
   "id": "4092f657-271e-4671-a811-3286109042e3",
   "metadata": {},
   "outputs": [],
   "source": []
  }
 ],
 "metadata": {
  "kernelspec": {
   "display_name": "R",
   "language": "R",
   "name": "ir"
  },
  "language_info": {
   "codemirror_mode": "r",
   "file_extension": ".r",
   "mimetype": "text/x-r-source",
   "name": "R",
   "pygments_lexer": "r",
   "version": "4.2.2"
  }
 },
 "nbformat": 4,
 "nbformat_minor": 5
}
