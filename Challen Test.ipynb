{
 "cells": [
  {
   "cell_type": "markdown",
   "id": "b3d91dbf-c11f-4f98-8fbd-1b83727abacd",
   "metadata": {},
   "source": [
    "Hi this is Challen testing a commit and push."
   ]
  },
  {
   "cell_type": "code",
   "execution_count": null,
   "id": "edaeceef-5f1a-4d52-a4a0-fd12b1658275",
   "metadata": {},
   "outputs": [],
   "source": []
  }
 ],
 "metadata": {
  "kernelspec": {
   "display_name": "R",
   "language": "R",
   "name": "ir"
  },
  "language_info": {
   "codemirror_mode": "r",
   "file_extension": ".r",
   "mimetype": "text/x-r-source",
   "name": "R",
   "pygments_lexer": "r",
   "version": "4.2.2"
  }
 },
 "nbformat": 4,
 "nbformat_minor": 5
}
