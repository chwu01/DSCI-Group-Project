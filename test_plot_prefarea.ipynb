{
 "cells": [
  {
   "cell_type": "code",
   "execution_count": null,
   "id": "6367dfc4-32f6-455b-aa1f-d5af1e41e112",
   "metadata": {
    "tags": []
   },
   "outputs": [],
   "source": [
    "library(tidyverse)\n",
    "library(repr)\n",
    "library(tidymodels)\n",
    "\n",
    "housing_df <- read_csv(\"data/housing.csv\")\n",
    "\n",
    "housing_plot <- housing_df |>\n",
    "    ggplot(aes(x = area, y = price, colour = prefarea)) +\n",
    "        geom_points()\n",
    "housing_plot"
   ]
  }
 ],
 "metadata": {
  "kernelspec": {
   "display_name": "R",
   "language": "R",
   "name": "ir"
  },
  "language_info": {
   "codemirror_mode": "r",
   "file_extension": ".r",
   "mimetype": "text/x-r-source",
   "name": "R",
   "pygments_lexer": "r",
   "version": "4.2.2"
  }
 },
 "nbformat": 4,
 "nbformat_minor": 5
}
