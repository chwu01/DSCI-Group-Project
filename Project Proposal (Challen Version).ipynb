{
 "cells": [
  {
   "cell_type": "markdown",
   "id": "af06f7a5-8295-474a-a8a9-30663f6661ad",
   "metadata": {},
   "source": [
    "**Introduction**\n",
    "Housing prices are based on a variety of factors, and fluctuate with the health of the economy. However, there should always be things about a home that intrinsically make it higher value than others. Removing economic fluctuations, what makes a house worth more than another, and how can we predict the value of a house? \n",
    "\n",
    "<ins>Goal:</ins> Predict housing prices based on a combination of attributes.\n",
    "\n",
    "To address this question, we will be using a comprehensive dataset that includes various attributes of residential properties. The dataset will include information on property size, architectural features, the presence of amenities (such as parking or whether the house is near the mainroad), and infrastructures within the house. By analyzing these variables and comparing the non-economic factors, we aim to identify what variables have the greatest influence on price prediction, that can be used to predict house prices."
   ]
  },
  {
   "cell_type": "markdown",
   "id": "c3281b71-f7d0-43e5-9536-a3bd05fec092",
   "metadata": {},
   "source": [
    "**Methods**\n",
    "Our base model will be a multivariate regression with our quantitative variables that are known to increase house value (area, bedrooms, bathroom, stories). It will involve a mixture of different types of plots, correlation analysis and regression model. We will be comparing the effect of other categorical variables (whether or not the house has a basement, heating, air conditioning, etc.) to identify the most relevant predictor variables that significantly affect housing prices. Then, we will use 1 to 2 categorical variables that best increase the accuracy of the model from the last step to predict the house prices.\n"
   ]
  },
  {
   "cell_type": "markdown",
   "id": "24c5f5d8-fabd-48e6-89ab-086f11f937fc",
   "metadata": {},
   "source": [
    "**Preliminary Exploratory Data Analysis**"
   ]
  },
  {
   "cell_type": "code",
   "execution_count": 2,
   "id": "193049c9-4c3e-4ace-8a2c-f74e5e14d03e",
   "metadata": {
    "tags": []
   },
   "outputs": [],
   "source": [
    "library(tidyverse)\n",
    "library(repr)\n",
    "library(tidymodels)\n",
    "library(readxl)\n",
    "library(RColorBrewer)\n",
    "options(repr.matrix.max.rows = 6)"
   ]
  },
  {
   "cell_type": "code",
   "execution_count": 8,
   "id": "8b70f051-e952-41cb-b8f8-e243a87ea19c",
   "metadata": {
    "tags": []
   },
   "outputs": [
    {
     "name": "stderr",
     "output_type": "stream",
     "text": [
      "\u001b[1mRows: \u001b[22m\u001b[34m545\u001b[39m \u001b[1mColumns: \u001b[22m\u001b[34m13\u001b[39m\n",
      "\u001b[36m──\u001b[39m \u001b[1mColumn specification\u001b[22m \u001b[36m────────────────────────────────────────────────────────\u001b[39m\n",
      "\u001b[1mDelimiter:\u001b[22m \",\"\n",
      "\u001b[31mchr\u001b[39m (7): mainroad, guestroom, basement, hotwaterheating, airconditioning, pr...\n",
      "\u001b[32mdbl\u001b[39m (6): price, area, bedrooms, bathrooms, stories, parking\n",
      "\n",
      "\u001b[36mℹ\u001b[39m Use `spec()` to retrieve the full column specification for this data.\n",
      "\u001b[36mℹ\u001b[39m Specify the column types or set `show_col_types = FALSE` to quiet this message.\n"
     ]
    },
    {
     "data": {
      "text/html": [
       "<table class=\"dataframe\">\n",
       "<caption>A tibble: 545 × 13</caption>\n",
       "<thead>\n",
       "\t<tr><th scope=col>price</th><th scope=col>area</th><th scope=col>bedrooms</th><th scope=col>bathrooms</th><th scope=col>stories</th><th scope=col>mainroad</th><th scope=col>guestroom</th><th scope=col>basement</th><th scope=col>hotwaterheating</th><th scope=col>airconditioning</th><th scope=col>parking</th><th scope=col>prefarea</th><th scope=col>furnishingstatus</th></tr>\n",
       "\t<tr><th scope=col>&lt;dbl&gt;</th><th scope=col>&lt;dbl&gt;</th><th scope=col>&lt;dbl&gt;</th><th scope=col>&lt;dbl&gt;</th><th scope=col>&lt;dbl&gt;</th><th scope=col>&lt;fct&gt;</th><th scope=col>&lt;fct&gt;</th><th scope=col>&lt;fct&gt;</th><th scope=col>&lt;fct&gt;</th><th scope=col>&lt;fct&gt;</th><th scope=col>&lt;dbl&gt;</th><th scope=col>&lt;fct&gt;</th><th scope=col>&lt;fct&gt;</th></tr>\n",
       "</thead>\n",
       "<tbody>\n",
       "\t<tr><td>13300000</td><td>7420</td><td>4</td><td>2</td><td>3</td><td>yes</td><td>no</td><td>no </td><td>no</td><td>yes</td><td>2</td><td>yes</td><td>furnished     </td></tr>\n",
       "\t<tr><td>12250000</td><td>8960</td><td>4</td><td>4</td><td>4</td><td>yes</td><td>no</td><td>no </td><td>no</td><td>yes</td><td>3</td><td>no </td><td>furnished     </td></tr>\n",
       "\t<tr><td>12250000</td><td>9960</td><td>3</td><td>2</td><td>2</td><td>yes</td><td>no</td><td>yes</td><td>no</td><td>no </td><td>2</td><td>yes</td><td>semi-furnished</td></tr>\n",
       "\t<tr><td>⋮</td><td>⋮</td><td>⋮</td><td>⋮</td><td>⋮</td><td>⋮</td><td>⋮</td><td>⋮</td><td>⋮</td><td>⋮</td><td>⋮</td><td>⋮</td><td>⋮</td></tr>\n",
       "\t<tr><td>1750000</td><td>3620</td><td>2</td><td>1</td><td>1</td><td>yes</td><td>no</td><td>no</td><td>no</td><td>no</td><td>0</td><td>no</td><td>unfurnished</td></tr>\n",
       "\t<tr><td>1750000</td><td>2910</td><td>3</td><td>1</td><td>1</td><td>no </td><td>no</td><td>no</td><td>no</td><td>no</td><td>0</td><td>no</td><td>furnished  </td></tr>\n",
       "\t<tr><td>1750000</td><td>3850</td><td>3</td><td>1</td><td>2</td><td>yes</td><td>no</td><td>no</td><td>no</td><td>no</td><td>0</td><td>no</td><td>unfurnished</td></tr>\n",
       "</tbody>\n",
       "</table>\n"
      ],
      "text/latex": [
       "A tibble: 545 × 13\n",
       "\\begin{tabular}{lllllllllllll}\n",
       " price & area & bedrooms & bathrooms & stories & mainroad & guestroom & basement & hotwaterheating & airconditioning & parking & prefarea & furnishingstatus\\\\\n",
       " <dbl> & <dbl> & <dbl> & <dbl> & <dbl> & <fct> & <fct> & <fct> & <fct> & <fct> & <dbl> & <fct> & <fct>\\\\\n",
       "\\hline\n",
       "\t 13300000 & 7420 & 4 & 2 & 3 & yes & no & no  & no & yes & 2 & yes & furnished     \\\\\n",
       "\t 12250000 & 8960 & 4 & 4 & 4 & yes & no & no  & no & yes & 3 & no  & furnished     \\\\\n",
       "\t 12250000 & 9960 & 3 & 2 & 2 & yes & no & yes & no & no  & 2 & yes & semi-furnished\\\\\n",
       "\t ⋮ & ⋮ & ⋮ & ⋮ & ⋮ & ⋮ & ⋮ & ⋮ & ⋮ & ⋮ & ⋮ & ⋮ & ⋮\\\\\n",
       "\t 1750000 & 3620 & 2 & 1 & 1 & yes & no & no & no & no & 0 & no & unfurnished\\\\\n",
       "\t 1750000 & 2910 & 3 & 1 & 1 & no  & no & no & no & no & 0 & no & furnished  \\\\\n",
       "\t 1750000 & 3850 & 3 & 1 & 2 & yes & no & no & no & no & 0 & no & unfurnished\\\\\n",
       "\\end{tabular}\n"
      ],
      "text/markdown": [
       "\n",
       "A tibble: 545 × 13\n",
       "\n",
       "| price &lt;dbl&gt; | area &lt;dbl&gt; | bedrooms &lt;dbl&gt; | bathrooms &lt;dbl&gt; | stories &lt;dbl&gt; | mainroad &lt;fct&gt; | guestroom &lt;fct&gt; | basement &lt;fct&gt; | hotwaterheating &lt;fct&gt; | airconditioning &lt;fct&gt; | parking &lt;dbl&gt; | prefarea &lt;fct&gt; | furnishingstatus &lt;fct&gt; |\n",
       "|---|---|---|---|---|---|---|---|---|---|---|---|---|\n",
       "| 13300000 | 7420 | 4 | 2 | 3 | yes | no | no  | no | yes | 2 | yes | furnished      |\n",
       "| 12250000 | 8960 | 4 | 4 | 4 | yes | no | no  | no | yes | 3 | no  | furnished      |\n",
       "| 12250000 | 9960 | 3 | 2 | 2 | yes | no | yes | no | no  | 2 | yes | semi-furnished |\n",
       "| ⋮ | ⋮ | ⋮ | ⋮ | ⋮ | ⋮ | ⋮ | ⋮ | ⋮ | ⋮ | ⋮ | ⋮ | ⋮ |\n",
       "| 1750000 | 3620 | 2 | 1 | 1 | yes | no | no | no | no | 0 | no | unfurnished |\n",
       "| 1750000 | 2910 | 3 | 1 | 1 | no  | no | no | no | no | 0 | no | furnished   |\n",
       "| 1750000 | 3850 | 3 | 1 | 2 | yes | no | no | no | no | 0 | no | unfurnished |\n",
       "\n"
      ],
      "text/plain": [
       "    price    area bedrooms bathrooms stories mainroad guestroom basement\n",
       "1   13300000 7420 4        2         3       yes      no        no      \n",
       "2   12250000 8960 4        4         4       yes      no        no      \n",
       "3   12250000 9960 3        2         2       yes      no        yes     \n",
       "⋮   ⋮        ⋮    ⋮        ⋮         ⋮       ⋮        ⋮         ⋮       \n",
       "543 1750000  3620 2        1         1       yes      no        no      \n",
       "544 1750000  2910 3        1         1       no       no        no      \n",
       "545 1750000  3850 3        1         2       yes      no        no      \n",
       "    hotwaterheating airconditioning parking prefarea furnishingstatus\n",
       "1   no              yes             2       yes      furnished       \n",
       "2   no              yes             3       no       furnished       \n",
       "3   no              no              2       yes      semi-furnished  \n",
       "⋮   ⋮               ⋮               ⋮       ⋮        ⋮               \n",
       "543 no              no              0       no       unfurnished     \n",
       "544 no              no              0       no       furnished       \n",
       "545 no              no              0       no       unfurnished     "
      ]
     },
     "metadata": {},
     "output_type": "display_data"
    }
   ],
   "source": [
    "url <- \"https://raw.githubusercontent.com/chwu01/DSCI-Group-Project/main/data/Housing.csv?token=GHSAT0AAAAAACJLPUGVZAVJVT4ABCKVY53KZJ4B4RQ\"\n",
    "housing <- read_csv(url)\n",
    "\n",
    "housing <- housing |>\n",
    "    mutate(furnishingstatus = as_factor(furnishingstatus),\n",
    "          mainroad = as_factor(mainroad),\n",
    "          guestroom = as_factor(guestroom),\n",
    "          basement = as_factor(basement),\n",
    "          hotwaterheating = as_factor(hotwaterheating),\n",
    "          airconditioning = as_factor(airconditioning),\n",
    "          prefarea = as_factor(prefarea))\n",
    "\n",
    "housing"
   ]
  },
  {
   "cell_type": "code",
   "execution_count": 5,
   "id": "51135112-e932-4568-99db-3646f93f11f2",
   "metadata": {
    "tags": []
   },
   "outputs": [
    {
     "data": {
      "text/html": [
       "<table class=\"dataframe\">\n",
       "<caption>A tibble: 1 × 1</caption>\n",
       "<thead>\n",
       "\t<tr><th scope=col>check_for_na</th></tr>\n",
       "\t<tr><th scope=col>&lt;int&gt;</th></tr>\n",
       "</thead>\n",
       "<tbody>\n",
       "\t<tr><td>0</td></tr>\n",
       "</tbody>\n",
       "</table>\n"
      ],
      "text/latex": [
       "A tibble: 1 × 1\n",
       "\\begin{tabular}{l}\n",
       " check\\_for\\_na\\\\\n",
       " <int>\\\\\n",
       "\\hline\n",
       "\t 0\\\\\n",
       "\\end{tabular}\n"
      ],
      "text/markdown": [
       "\n",
       "A tibble: 1 × 1\n",
       "\n",
       "| check_for_na &lt;int&gt; |\n",
       "|---|\n",
       "| 0 |\n",
       "\n"
      ],
      "text/plain": [
       "  check_for_na\n",
       "1 0           "
      ]
     },
     "metadata": {},
     "output_type": "display_data"
    }
   ],
   "source": [
    "# Checking for NA values\n",
    "\n",
    "housing_check_na <- housing |>\n",
    "    summarize(check_for_na = sum(is.na(housing)))\n",
    "\n",
    "housing_check_na"
   ]
  },
  {
   "cell_type": "code",
   "execution_count": 6,
   "id": "86043dfe-2310-45de-bfbe-8e3d4f75615f",
   "metadata": {
    "tags": []
   },
   "outputs": [
    {
     "data": {
      "text/html": [
       "<table class=\"dataframe\">\n",
       "<caption>A tibble: 6 × 2</caption>\n",
       "<thead>\n",
       "\t<tr><th scope=col>bedrooms</th><th scope=col>observations</th></tr>\n",
       "\t<tr><th scope=col>&lt;dbl&gt;</th><th scope=col>&lt;int&gt;</th></tr>\n",
       "</thead>\n",
       "<tbody>\n",
       "\t<tr><td>1</td><td>  2</td></tr>\n",
       "\t<tr><td>2</td><td>136</td></tr>\n",
       "\t<tr><td>3</td><td>300</td></tr>\n",
       "\t<tr><td>4</td><td> 95</td></tr>\n",
       "\t<tr><td>5</td><td> 10</td></tr>\n",
       "\t<tr><td>6</td><td>  2</td></tr>\n",
       "</tbody>\n",
       "</table>\n"
      ],
      "text/latex": [
       "A tibble: 6 × 2\n",
       "\\begin{tabular}{ll}\n",
       " bedrooms & observations\\\\\n",
       " <dbl> & <int>\\\\\n",
       "\\hline\n",
       "\t 1 &   2\\\\\n",
       "\t 2 & 136\\\\\n",
       "\t 3 & 300\\\\\n",
       "\t 4 &  95\\\\\n",
       "\t 5 &  10\\\\\n",
       "\t 6 &   2\\\\\n",
       "\\end{tabular}\n"
      ],
      "text/markdown": [
       "\n",
       "A tibble: 6 × 2\n",
       "\n",
       "| bedrooms &lt;dbl&gt; | observations &lt;int&gt; |\n",
       "|---|---|\n",
       "| 1 |   2 |\n",
       "| 2 | 136 |\n",
       "| 3 | 300 |\n",
       "| 4 |  95 |\n",
       "| 5 |  10 |\n",
       "| 6 |   2 |\n",
       "\n"
      ],
      "text/plain": [
       "  bedrooms observations\n",
       "1 1          2         \n",
       "2 2        136         \n",
       "3 3        300         \n",
       "4 4         95         \n",
       "5 5         10         \n",
       "6 6          2         "
      ]
     },
     "metadata": {},
     "output_type": "display_data"
    }
   ],
   "source": [
    "# Checking the spread of number of bedrooms in the dataset\n",
    "\n",
    "housing_bedroom_count <- housing |>\n",
    "    group_by(bedrooms) |>\n",
    "    summarize(observations = n())\n",
    "\n",
    "housing_bedroom_count"
   ]
  },
  {
   "cell_type": "code",
   "execution_count": 7,
   "id": "972e60ab-786f-4ccc-a23c-b7fa755b0663",
   "metadata": {
    "tags": []
   },
   "outputs": [
    {
     "ename": "ERROR",
     "evalue": "Error in cut(housing_bedroom_aggregate$area, breaks = breaks, include.lowest = TRUE, : object 'housing_bedroom_aggregate' not found\n",
     "output_type": "error",
     "traceback": [
      "Error in cut(housing_bedroom_aggregate$area, breaks = breaks, include.lowest = TRUE, : object 'housing_bedroom_aggregate' not found\nTraceback:\n",
      "1. cut(housing_bedroom_aggregate$area, breaks = breaks, include.lowest = TRUE, \n .     right = FALSE, labels = tags)"
     ]
    }
   ],
   "source": [
    "# Dividing area into bins to examine the distribution of house square footage\n",
    "\n",
    "breaks <- c(0, 1000, 2000, 3000, 4000, 5000, 6000, 7000, 8000, 9000, 10000, 11000, 12000, 13000, 14000, 15000, 16000, 17000)\n",
    "tags <- c(\"0-1000\", \"1000-2000\", \"2000-3000\", \"3000-4000\", \"4000-5000\", \"5000-6000\", \"6000-7000\", \"7000-8000\", \"8000-9000\", \"9000-10000\",\n",
    "          \"10000-11000\", \"11000-12000\", \"12000-13000\", \"13000-14000\", \"14000-15000\", \"15000-16000\", \"16000-17000\")\n",
    "\n",
    "group_tags <- cut(housing_bedroom_aggregate$area, breaks = breaks, include.lowest = TRUE, right = FALSE, labels = tags)\n",
    "\n",
    "# group_tags\n",
    "\n",
    "housing_area_buckets <- housing_df |>\n",
    "    select(price, area) |>\n",
    "    mutate(area_bucket = group_tags) |>\n",
    "    group_by(area_bucket) |>\n",
    "    summarize(number_of_houses = n())\n",
    "\n",
    "housing_area_buckets"
   ]
  },
  {
   "cell_type": "markdown",
   "id": "46388330-9903-47b2-8764-3d6131af8811",
   "metadata": {},
   "source": [
    "**Expected outcomes**\n",
    "We anticipate that our analysis will confirm that certain quantitative variables, such as property size and number of bedrooms, will have a positive relationship with the value of the house.  Additionally, we expect that the presence of certain categorical values such as parking and accessibility to mainroad will generally lead to an increase in the housing price. However, subjective factors like the buyer's perception of the value of these amenities could affect how much of an increase there is. These findings are significant because they offer future house owners a more precise understanding of the basic factors influencing house prices.\n"
   ]
  },
  {
   "cell_type": "markdown",
   "id": "d734dce2-7638-4f16-ae69-f29d806b52a5",
   "metadata": {},
   "source": [
    "**Future questions**\n",
    "- Is it cheaper to buy a house with amenities included or buy one without and install yourself?\n",
    "- What other variables can impact a house(e.g. age of the house, color)?\n"
   ]
  },
  {
   "cell_type": "code",
   "execution_count": null,
   "id": "3a89a0e6-6406-4a4f-af3a-b5f7226a7a76",
   "metadata": {},
   "outputs": [],
   "source": []
  }
 ],
 "metadata": {
  "kernelspec": {
   "display_name": "R",
   "language": "R",
   "name": "ir"
  },
  "language_info": {
   "codemirror_mode": "r",
   "file_extension": ".r",
   "mimetype": "text/x-r-source",
   "name": "R",
   "pygments_lexer": "r",
   "version": "4.2.2"
  }
 },
 "nbformat": 4,
 "nbformat_minor": 5
}
